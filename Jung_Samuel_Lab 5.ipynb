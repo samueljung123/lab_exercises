{
 "cells": [
  {
   "cell_type": "code",
   "execution_count": 1,
   "id": "6661b175",
   "metadata": {},
   "outputs": [
    {
     "name": "stdout",
     "output_type": "stream",
     "text": [
      "Requirement already satisfied: selenium in ./opt/anaconda3/lib/python3.9/site-packages (4.8.2)\n",
      "Requirement already satisfied: urllib3[socks]~=1.26 in ./opt/anaconda3/lib/python3.9/site-packages (from selenium) (1.26.9)\n",
      "Requirement already satisfied: trio-websocket~=0.9 in ./opt/anaconda3/lib/python3.9/site-packages (from selenium) (0.9.2)\n",
      "Requirement already satisfied: trio~=0.17 in ./opt/anaconda3/lib/python3.9/site-packages (from selenium) (0.22.0)\n",
      "Requirement already satisfied: certifi>=2021.10.8 in ./opt/anaconda3/lib/python3.9/site-packages (from selenium) (2021.10.8)\n",
      "Requirement already satisfied: attrs>=19.2.0 in ./opt/anaconda3/lib/python3.9/site-packages (from trio~=0.17->selenium) (21.4.0)\n",
      "Requirement already satisfied: async-generator>=1.9 in ./opt/anaconda3/lib/python3.9/site-packages (from trio~=0.17->selenium) (1.10)\n",
      "Requirement already satisfied: sortedcontainers in ./opt/anaconda3/lib/python3.9/site-packages (from trio~=0.17->selenium) (2.4.0)\n",
      "Requirement already satisfied: outcome in ./opt/anaconda3/lib/python3.9/site-packages (from trio~=0.17->selenium) (1.2.0)\n",
      "Requirement already satisfied: sniffio in ./opt/anaconda3/lib/python3.9/site-packages (from trio~=0.17->selenium) (1.2.0)\n",
      "Requirement already satisfied: idna in ./opt/anaconda3/lib/python3.9/site-packages (from trio~=0.17->selenium) (3.3)\n",
      "Requirement already satisfied: exceptiongroup>=1.0.0rc9 in ./opt/anaconda3/lib/python3.9/site-packages (from trio~=0.17->selenium) (1.1.0)\n",
      "Requirement already satisfied: wsproto>=0.14 in ./opt/anaconda3/lib/python3.9/site-packages (from trio-websocket~=0.9->selenium) (1.2.0)\n",
      "Requirement already satisfied: PySocks!=1.5.7,<2.0,>=1.5.6 in ./opt/anaconda3/lib/python3.9/site-packages (from urllib3[socks]~=1.26->selenium) (1.7.1)\n",
      "Requirement already satisfied: h11<1,>=0.9.0 in ./opt/anaconda3/lib/python3.9/site-packages (from wsproto>=0.14->trio-websocket~=0.9->selenium) (0.14.0)\n"
     ]
    }
   ],
   "source": [
    "! pip install selenium"
   ]
  },
  {
   "cell_type": "code",
   "execution_count": 2,
   "id": "0d4f1be8",
   "metadata": {},
   "outputs": [],
   "source": [
    "#Lab Exercises"
   ]
  },
  {
   "cell_type": "code",
   "execution_count": 3,
   "id": "f53b90f4",
   "metadata": {},
   "outputs": [],
   "source": [
    "#Part 1 of Lab Exercises : Implementation of last Selenium tutorial"
   ]
  },
  {
   "cell_type": "code",
   "execution_count": 4,
   "id": "507d7cc4",
   "metadata": {
    "scrolled": true
   },
   "outputs": [],
   "source": [
    "from selenium import webdriver\n",
    "from selenium.webdriver.chrome.service import Service\n",
    "from selenium.webdriver.support.ui import WebDriverWait\n",
    "from selenium.webdriver.support import expected_conditions as EC\n",
    "from selenium.webdriver.common.keys import Keys\n",
    "from selenium.webdriver.common.by import By\n",
    "\n",
    "PATH = Service(\"C:/Users/samjung/Desktop/Selenium/chromedriver.exe\")\n",
    "driver = webdriver.Chrome(service=PATH)\n",
    "\n",
    "practice_site = \"https://techwithtim.net\" #the link we will be scraping through\n",
    "driver.get(practice_site)\n",
    "\n",
    "link = driver.find_element(By.LINK_TEXT, \"Python Programming\") #finding the element that has link text, \"Python Programming\"\n",
    "link.click()\n",
    "\n",
    "try:\n",
    "    element = WebDriverWait(driver, 10).until(\n",
    "        EC.presence_of_element_located((By.LINK_TEXT, \"Beginner Python Tutorials\"))\n",
    "    ) #waiting 10 seconds for the link text that says \"Beginner Python Tutorials\" to show up/locate it\n",
    "\n",
    "    element.click() #click it\n",
    "\n",
    "    element = WebDriverWait(driver, 10).until(\n",
    "        EC.presence_of_element_located((By.ID, \"sow-button-19310003\"))\n",
    "    ) #then, wait 10 seconds for the link text that says \"sow-button-19310003\" to show up/locate it\n",
    "    element.click() #click it\n",
    "\n",
    "    driver.back()\n",
    "    driver.back()\n",
    "    driver.back()\n",
    "    # Go back 3 times/like clicking the back arrow 3 times kind of\n",
    "    driver.forward()\n",
    "    driver.forward()\n",
    "    # Go forward 2 times/like clicking the front arrow 3 times kind of\n",
    "except:\n",
    "    driver.quit()\n",
    "    #quit if that doesn't work\n"
   ]
  },
  {
   "cell_type": "code",
   "execution_count": 5,
   "id": "a4769187",
   "metadata": {},
   "outputs": [],
   "source": [
    "# Part 2 of Lab Exercises : Used \"climate change\""
   ]
  },
  {
   "cell_type": "code",
   "execution_count": 6,
   "id": "4e1340b4",
   "metadata": {},
   "outputs": [],
   "source": [
    "from selenium import webdriver\n",
    "from selenium.webdriver.chrome.service import Service\n",
    "from selenium.webdriver.support.ui import WebDriverWait\n",
    "from selenium.webdriver.support import expected_conditions as EC\n",
    "from selenium.webdriver.common.keys import Keys\n",
    "from selenium.webdriver.common.by import By\n",
    "import csv\n",
    "import pandas as pd\n",
    "from csv import writer\n",
    "#libraries that we need. \n",
    "\n",
    "PATH = Service(\"C:/Users/samjung/Desktop/Selenium/chromedriver.exe\")\n",
    "driver = webdriver.Chrome(service=PATH)\n",
    "\n",
    "practice_site2 = \"https://data.gov/\"\n",
    "driver.get(practice_site2)\n",
    "\n",
    "link = driver.find_element(By.CLASS_NAME, \"menu-data\") # finding the element that has link text, \"menu-data\"\n",
    "link.click()\n",
    "\n",
    "# Find the search element by its ID and enter \"climate change\" as the search term\n",
    "search = driver.find_element(By.ID, \"search-big\") #looking for the element by ID for the term \"search-big\"\n",
    "search.clear() #clear whats in the search bar\n",
    "search.send_keys(\"climate change\") #type in climate change\n",
    "search.send_keys(Keys.RETURN)\n",
    "\n",
    "title_list = [] #the list that will be needed for listing out the titles\n",
    "description_list=[]  #the list that will be needed for listing out the description\n",
    "\n",
    "try:\n",
    "    main2 = WebDriverWait(driver, 10).until(EC.presence_of_element_located((By.CLASS_NAME, \"module-content\")))\n",
    "    \n",
    "    for element in main2.find_elements(By.CLASS_NAME,\"dataset-content\"):   \n",
    "        # looping through each element in the class named, \"dataset-content\" to get the titles and descriptions\n",
    "        title = element.find_element(By.CLASS_NAME, \"dataset-heading\")\n",
    "        # Getting title in element in the class named, \"dataset-heading\"\n",
    "        description = element.find_element(By.CLASS_NAME, \"notes\")\n",
    "        #Doing the same as what was done for title but for description\n",
    "        title_list.append(title.text) #put in the list\n",
    "        description_list.append(description.text) #put in the list\n",
    "    \n",
    "        # Create a pandas DataFrame from the two lists\n",
    "        sheet1 = pd.DataFrame(list(zip(title_list, description_list)), columns =[\"Title\", \"Description\"])\n",
    "        #creating a panda data frame using the lists that were made throught the forloop and set it to a varaibel\n",
    "        sheet1.to_csv(\"climate_change_data.csv\",index=False)\n",
    "        #this is where we used the convinient variable so we could put that into the csv for climate change\n",
    "    \n",
    "finally:\n",
    "    driver.quit()\n",
    "    # Quit the driver\n",
    "\n",
    "\n"
   ]
  }
 ],
 "metadata": {
  "kernelspec": {
   "display_name": "Python 3 (ipykernel)",
   "language": "python",
   "name": "python3"
  },
  "language_info": {
   "codemirror_mode": {
    "name": "ipython",
    "version": 3
   },
   "file_extension": ".py",
   "mimetype": "text/x-python",
   "name": "python",
   "nbconvert_exporter": "python",
   "pygments_lexer": "ipython3",
   "version": "3.9.12"
  }
 },
 "nbformat": 4,
 "nbformat_minor": 5
}
