{
 "cells": [
  {
   "cell_type": "code",
   "execution_count": null,
   "id": "60083354",
   "metadata": {},
   "outputs": [],
   "source": [
    "welcome = \"Hello World\"\n",
    "print(type(welcome))"
   ]
  },
  {
   "cell_type": "code",
   "execution_count": null,
   "id": "bb70938e",
   "metadata": {},
   "outputs": [],
   "source": [
    "dir(\"\")"
   ]
  },
  {
   "cell_type": "code",
   "execution_count": null,
   "id": "50e6c013",
   "metadata": {},
   "outputs": [],
   "source": [
    "help(\"\")"
   ]
  },
  {
   "cell_type": "code",
   "execution_count": null,
   "id": "d260a359",
   "metadata": {},
   "outputs": [],
   "source": [
    "class Dog:\n",
    "    def __init__(self, name, age, color):\n",
    "        self.name = name\n",
    "        self.age = age\n",
    "        self.color = color\n",
    "        \n",
    "    def greeting(self):\n",
    "        print(\"Woof! My name is\", self.name + \".I am\", self.age, \"years old. Do you like my\", self.color, \"fur?\")\n",
    "        \n",
    "d1 = Dog(\"Toby\",3, \"yellow\")\n",
    "d1.greeting()"
   ]
  },
  {
   "cell_type": "code",
   "execution_count": null,
   "id": "06037c71",
   "metadata": {},
   "outputs": [],
   "source": [
    "#Exercise 1\n",
    "#Classes are blueprints for an object. From line 2-20\n",
    "class Dog:\n",
    "    def __init__(self, name, age): #method \n",
    "        self.name = name #variable\n",
    "        self.age = age #variable\n",
    "        \n",
    "    def greeting(self):\n",
    "        print(\"Woof! My name is\", self.name + \".I am\", self.age, \"years old. Do you like my\", self.color, \"fur?\")\n",
    "    \n",
    "    def dog_years(self):\n",
    "        print(self.age*7)\n",
    "        \n",
    "    def nickname(self):\n",
    "        print(\"my nickname tiny \"+ self.name.lower())\n",
    "   \n",
    "    def bark(self):\n",
    "        print(\"woof\")\n",
    "        \n",
    "d1 = Dog(\"Toby\",3, \"yellow\") #object/instance variable/instance of a class\n",
    "d1.greeting()\n",
    "d1.dog_years()\n",
    "d1.nickname()\n",
    "d1.bark()\n"
   ]
  },
  {
   "cell_type": "code",
   "execution_count": null,
   "id": "b425773e",
   "metadata": {},
   "outputs": [],
   "source": [
    "#Exercise 2\n",
    "class Restaurant:\n",
    "    def __init__(self, name, store_type, location):\n",
    "        self.name = name\n",
    "        self.store_type = store_type\n",
    "        self.location = location\n",
    "    def intro(self):\n",
    "        print(\"Welcome to\", self.name + \". This store is a\", self.store_type, \"restaurant. This restaurant is located in\", self.location, \"street\")\n",
    "        \n",
    "r1 = Restaurant(\"McDonalds\", \"fast food\", \"500 McMillan\")\n",
    "r1.intro()\n"
   ]
  },
  {
   "cell_type": "code",
   "execution_count": null,
   "id": "23d710ee",
   "metadata": {},
   "outputs": [],
   "source": [
    "#TA's example of exercise 2\n",
    "\n",
    "class Store:\n",
    "    def __init__(self, name, store_type, location, manager_name):\n",
    "        self.name = name\n",
    "        self.store_type = store_type\n",
    "        self.location = location\n",
    "        self.manager_name = manager_name\n",
    "    \n",
    "    def description(self):\n",
    "        print(\"Store name is \" + self.name +\", it is a \" + self.store_type +\"store in \" + self.location)\n",
    "        \n",
    "store1 = Store(\"Wegmans\", \"grocery\", \"Binghamton\", \"Ryan\")\n",
    "store1.description()"
   ]
  },
  {
   "cell_type": "code",
   "execution_count": null,
   "id": "c7c155f2",
   "metadata": {
    "scrolled": true
   },
   "outputs": [],
   "source": [
    "#Exercise 3\n",
    "\n",
    "class UserProfile:\n",
    "    def __init__(self, name, followers, location, fav_color):\n",
    "        self.name = name\n",
    "        self.followers = followers\n",
    "        self.location = location\n",
    "        self.fav_color = fav_color\n",
    "        \n",
    "    def user_name_check(self):\n",
    "        for char in self.name: #its going thru each character/letter in the input of self.name\n",
    "            if char == \"@\": #if it has @ in it, ask for new username for user to input\n",
    "                self.name = input(\"Cannot use @ sumbol in userprofile. Please insert new username: \")\n",
    "                \n",
    "    def follower_count(self):\n",
    "        print(f\"{self.name} currently has {self.followers} followers.\") #print this to tell how many followers the account has\n",
    "        \n",
    "    def last_logged(self):\n",
    "        print(f\"{self.name} last logged in from {self.location}.\") #print this to tell where the account last logged in from\n",
    "    \n",
    "user1 = UserProfile(\"Charmander@dawn\", 234, \"St. Louis\", \"Yellow\") #reflects what def __init__ contains\n",
    "user1.user_name_check() #print out name\n",
    "user1.follower_count() #print out follower count\n",
    "user1.last_logged() #print out location of last logged"
   ]
  },
  {
   "cell_type": "code",
   "execution_count": 5,
   "id": "6d86636e",
   "metadata": {},
   "outputs": [
    {
     "data": {
      "text/plain": [
       "2116"
      ]
     },
     "execution_count": 5,
     "metadata": {},
     "output_type": "execute_result"
    }
   ],
   "source": [
    "#POST LAB EXERCISES\n",
    "\n",
    "#Question 1\n",
    "\n",
    "class BankAccount: #we use the keyword, class, and name our class, Dog. #we define the initialize method  which is written as __init__. \n",
    "\n",
    "    def __init__(self, balance): #In addition to self, we have passed one parameter/variable for the method, balance\n",
    "        self.balance=balance \n",
    "                            \n",
    "    def get_balance(self): #We are assigning an attribute to a specific instance of an object\n",
    "        return self.balance #self.balance \n",
    "\n",
    "    def deposit(self,amt=0): #take in amount to deposit defaults to 0\n",
    "        self.balance+=amt # adds the amount that is deposited\n",
    "\n",
    "    def withdraw(self,amt=0): #default to withdrawing $0\n",
    "        self.balance-=amt #subtrtacts your balance with the amount you withdrawed\n",
    "\n",
    "b1 = BankAccount(230) #for one bank, this is the amount of money in bank account\n",
    "\n",
    "b1.deposit(100) #for this first bank account, the amount of money they deposit\n",
    "b1.withdraw(32) #for this first bank account, how much they withdraw\n",
    "b1.get_balance() #the final amount of money in the first bank account\n",
    "\n",
    "b2 = BankAccount(4450) #for the second bank, the amount of money in bank account\n",
    "b2.withdraw(2334) #for this second bank account, how much they withdraw\n",
    "b2.get_balance() #the final amount of money in the second bank account"
   ]
  },
  {
   "cell_type": "code",
   "execution_count": null,
   "id": "2949986b",
   "metadata": {},
   "outputs": [],
   "source": [
    "#Question 2\n",
    "\n",
    "class Cat:\n",
    "    \n",
    "    def __init__(self, name, color, age):\n",
    "        self.name = name\n",
    "        self.color = color\n",
    "        self.age = age\n",
    "    \n",
    "    def greeting(self):\n",
    "        print(\"Meow, my name is \" + self.name)\n",
    "        \n",
    "    def cat_color(self):\n",
    "        print(\"I am an \" + self.color + \" cat\")\n",
    "        \n",
    "    def cat_age(self):\n",
    "        print(\"In cat years, I am \" + str(self.age*15) + \" years old\")\n",
    "c1 = Cat(\"Levi\", \"black\", 1)\n",
    "c1.greeting()\n",
    "c1.cat_color()\n",
    "c1.cat_age()\n"
   ]
  },
  {
   "cell_type": "code",
   "execution_count": null,
   "id": "65275f06",
   "metadata": {},
   "outputs": [],
   "source": [
    "#Question 3\n",
    "\n",
    "class Num_type:\n",
    "    \n",
    "    def __init__(self, num):\n",
    "        self.num = num\n",
    "    \n",
    "    def number(self):\n",
    "        if self.num % 2 == 0:\n",
    "            print(\"it is an even number\")\n",
    "        else:\n",
    "            print(\"it is an odd number\")\n",
    "    \n",
    "n1 = Num_type(4)\n",
    "n1.number()\n"
   ]
  },
  {
   "cell_type": "code",
   "execution_count": null,
   "id": "464b33b2",
   "metadata": {},
   "outputs": [],
   "source": [
    "#Question 4\n",
    "\n",
    "import random\n",
    "\n",
    "class Bing_profile:\n",
    "    \n",
    "    def __init__(self, Bnumber, standing, gpa):\n",
    "        self.Bnum = Bnumber\n",
    "        self.stand = standing\n",
    "        self.gpavg = gpa\n",
    "    \n",
    "    def Bnumber(self):\n",
    "        print(\"your Bnumber is \" + str(self.Bnum*random.randint(0,3)) + \". You should memorize it!\")\n",
    "        \n",
    "    def standing(self):\n",
    "        if self.gpavg >= 3.5:\n",
    "            self.stand = random.randint(0,10)\n",
    "            print(\"you currently stand at number \" + str(self.stand) + \" in your class!\")\n",
    "        elif self.gpavg > 2.0 and self.gpavg < 3.5:\n",
    "            self.stand = random.randint(11,40)\n",
    "            print(\"you currently stand at number \" + str(self.stand) + \" in your class.\")\n",
    "        else:\n",
    "            self.stand = random.randint(41,90)\n",
    "            print(\"you currently stand at number \" + str(self.stand) + \" in your class. :(\")\n",
    "    \n",
    "    def gpa(self):\n",
    "        if self.stand <= 40:\n",
    "            print(\"your gpa reflects that of an A student\")\n",
    "        elif self.stand > 40:\n",
    "            print(\"your gpa most certainly does not reflect that of an A student\")\n",
    "\n",
    " \n",
    "    \n",
    "b1 = Bing_profile(503, 50, 4.0)\n",
    "b1.Bnumber()\n",
    "b1.standing()\n",
    "b1.gpa()\n",
    "\n"
   ]
  },
  {
   "cell_type": "code",
   "execution_count": 4,
   "id": "7bba330e",
   "metadata": {},
   "outputs": [
    {
     "name": "stdout",
     "output_type": "stream",
     "text": [
      "5\n",
      "5\n",
      "1\n",
      "8\n"
     ]
    }
   ],
   "source": [
    "#Question 5\n",
    "\n",
    "import random\n",
    "\n",
    "class Die:\n",
    "    \n",
    "    def __init__(self):\n",
    "        pass\n",
    "\n",
    "    \n",
    "    def die1(self):\n",
    "        return (random.randint(1,6))\n",
    "        \n",
    "    def die2(self):\n",
    "        return (random.randint(1,10))\n",
    "        \n",
    "    def die3(self):\n",
    "        return (random.randint(1,12))\n",
    "    \n",
    "    def die4(self):\n",
    "        return (random.randint(1,20))\n",
    "\n",
    "#comment out three other methods.\n",
    "        \n",
    "d1 = Die()\n",
    "print(d1.die1())\n",
    "print(d1.die2())\n",
    "print(d1.die3())\n",
    "print(d1.die4())\n"
   ]
  },
  {
   "cell_type": "code",
   "execution_count": null,
   "id": "b2674317",
   "metadata": {},
   "outputs": [],
   "source": [
    "\n"
   ]
  }
 ],
 "metadata": {
  "kernelspec": {
   "display_name": "Python 3 (ipykernel)",
   "language": "python",
   "name": "python3"
  },
  "language_info": {
   "codemirror_mode": {
    "name": "ipython",
    "version": 3
   },
   "file_extension": ".py",
   "mimetype": "text/x-python",
   "name": "python",
   "nbconvert_exporter": "python",
   "pygments_lexer": "ipython3",
   "version": "3.9.12"
  }
 },
 "nbformat": 4,
 "nbformat_minor": 5
}
