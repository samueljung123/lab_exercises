{
 "cells": [
  {
   "cell_type": "code",
   "execution_count": 1,
   "id": "a562939e",
   "metadata": {},
   "outputs": [
    {
     "name": "stdout",
     "output_type": "stream",
     "text": [
      "chestnut\n"
     ]
    }
   ],
   "source": [
    "#Question 1\n",
    "\n",
    "randlist = [\"apple\", \"chestnut\", \"gargoyle\", \"pandas\", \"sheep\", \"raptor\"]\n",
    "\n",
    "def long(randlist):\n",
    "    \n",
    "    longest_word = \"\"\n",
    "    length_word = 0\n",
    "    for word in randlist:\n",
    "        if len(word) > length_word:\n",
    "            length_word = len(word) #why did I have to flip these. It didn't work before\n",
    "            longest_word = word #why did I have to flip these. It didn't work before\n",
    "            \n",
    "    return longest_word\n",
    "\n",
    "            \n",
    "print(long(randlist))\n",
    "\n",
    "#Is this acceptable?"
   ]
  },
  {
   "cell_type": "code",
   "execution_count": 2,
   "id": "5e25c00f",
   "metadata": {},
   "outputs": [
    {
     "data": {
      "text/plain": [
       "'NONINTRUSIVE'"
      ]
     },
     "execution_count": 2,
     "metadata": {},
     "output_type": "execute_result"
    }
   ],
   "source": [
    "#Question 2\n",
    "import random\n",
    "sowpods = \"sowpods.txt\"\n",
    "\n",
    "def word_generator():\n",
    "    random_nums = [] #creating a new list that will hold the random numbers from the sowpods\n",
    "    filename = sowpods\n",
    "    f = open(filename, \"r\", encoding = \"utf8\")\n",
    "    words = f.readlines()\n",
    "    f.close()\n",
    "    \n",
    "    for i in range(7): #For loop telling the computer the computer that we want 7 words\n",
    "         random_nums.append(random.choice(words).strip()) #appending those random words through the for loop and appending it to the random_nums list\n",
    "    return random_nums \n",
    "\n",
    "seven_word = word_generator() #put the function under a variable\n",
    "\n",
    "long(seven_word) #Do this using the fucntion from before, long(list), so we don't have to rewrite it"
   ]
  },
  {
   "cell_type": "code",
   "execution_count": 3,
   "id": "82f0de55",
   "metadata": {},
   "outputs": [
    {
     "name": "stdout",
     "output_type": "stream",
     "text": [
      "Where are Messi, Ronaldo, Mitoma, and Son from respectively?\n",
      "dict_values(['Argentina', 'Portugal', 'Japan', 'Korea'])\n",
      "Which national team is going to get out the first round?\n",
      "Japan\n",
      "Which player and their respected national team is going to get out the second round?\n",
      "('Son', 'Korea')\n",
      "Which team is going to win the wc?\n",
      "Argentina\n"
     ]
    }
   ],
   "source": [
    "#Question 3\n",
    "\n",
    "def dict():\n",
    "    dict = {\"Messi\":\"Argentina\",\n",
    "        \"Ronaldo\":\"Portugal\",\n",
    "        \"Mitoma\":\"Japan\",\n",
    "        \"Son\":\"Korea\"}\n",
    "\n",
    "\n",
    "    print(\"Where are Messi, Ronaldo, Mitoma, and Son from respectively?\")\n",
    "    print(dict.values()) #is it a problem that its printing dict_values as well? If so, how could I avoid it?\n",
    "    print(\"Which national team is going to get out the first round?\")\n",
    "    print(dict.pop(\"Mitoma\"))\n",
    "    print(\"Which player and their respected national team is going to get out the second round?\")\n",
    "    print(dict.popitem())\n",
    "    print(\"Which team is going to win the wc?\")\n",
    "    print(dict.get(\"Messi\"))\n",
    "\n",
    "dict()"
   ]
  },
  {
   "cell_type": "code",
   "execution_count": 4,
   "id": "6f8db96e",
   "metadata": {},
   "outputs": [
    {
     "name": "stdout",
     "output_type": "stream",
     "text": [
      "I currently have all As and so my gpa is 4.0 and its mostly because I just had a 100% attendance rate\n"
     ]
    }
   ],
   "source": [
    "#Question 4\n",
    "\n",
    "class Record:\n",
    "    def __init__ (self, record_grades, record_gpa, record_attend):\n",
    "        self.record_grades = record_grades\n",
    "        self.record_gpa = record_gpa\n",
    "        self.record_attend = record_attend\n",
    "\n",
    "    def student1(self):\n",
    "        print(\"I currently have all \" + self.record_grades + \"s and so my gpa is \" + str(self.record_gpa) + \" and its mostly because I just had a \" + str(self.record_attend) + \"% attendance rate\")\n",
    "        \n",
    "r1 = Record(\"A\", 4.0, 100)\n",
    "r1.student1()"
   ]
  },
  {
   "cell_type": "code",
   "execution_count": 5,
   "id": "6e869e38",
   "metadata": {},
   "outputs": [
    {
     "name": "stdout",
     "output_type": "stream",
     "text": [
      "['_', '_', '_', '_', '_', '_']\n",
      "To play hangman, please guess a letter for the mysterious word. Your guess is... : e\n",
      "That is incorrect. Keep guessing!\n",
      "['_', '_', '_', '_', '_', '_']\n",
      "To play hangman, please guess a letter for the mysterious word. Your guess is... : a\n",
      "That is incorrect. Keep guessing!\n",
      "['_', '_', '_', '_', '_', '_']\n",
      "To play hangman, please guess a letter for the mysterious word. Your guess is... : i\n",
      "That is incorrect. Keep guessing!\n",
      "['_', '_', '_', '_', '_', '_']\n",
      "To play hangman, please guess a letter for the mysterious word. Your guess is... : o\n",
      "That is correct. You got it!\n",
      "['_', 'o', 'o', '_', 'o', 'o']\n",
      "To play hangman, please guess a letter for the mysterious word. Your guess is... : p\n",
      "That is correct. You got it!\n",
      "['p', 'o', 'o', 'p', 'o', 'o']\n",
      "Congrats! You win!\n"
     ]
    }
   ],
   "source": [
    "#Question 5\n",
    "\n",
    "word = \"poopoo\".lower()\n",
    "word_list = list(word)\n",
    "\n",
    "blank = [\"_\"] * len(word)\n",
    "\n",
    "turns = 5\n",
    "\n",
    "print(blank)\n",
    "\n",
    "while turns > 0:\n",
    "    guess = input(\"To play hangman, please guess a letter for the mysterious word. Your guess is... : \")\n",
    "\n",
    "    correct_guess = False\n",
    "    for i in range(len(word_list)):\n",
    "        if guess == word_list[i]:\n",
    "            blank[i] = word_list[i]\n",
    "            correct_guess = True\n",
    "    \n",
    "    if correct_guess:\n",
    "        print(\"That is correct. You got it!\")\n",
    "    else:\n",
    "        turns -= 1\n",
    "        print(\"That is incorrect. Keep guessing!\")\n",
    "\n",
    "    print(blank)\n",
    "\n",
    "    if \"_\" not in blank:\n",
    "        print(\"Congrats! You win!\")\n",
    "        break\n",
    "if turns == 0:\n",
    "    print(\"You ran out of turns. The hangman has been made. Maybe next time!\")"
   ]
  }
 ],
 "metadata": {
  "kernelspec": {
   "display_name": "Python 3 (ipykernel)",
   "language": "python",
   "name": "python3"
  },
  "language_info": {
   "codemirror_mode": {
    "name": "ipython",
    "version": 3
   },
   "file_extension": ".py",
   "mimetype": "text/x-python",
   "name": "python",
   "nbconvert_exporter": "python",
   "pygments_lexer": "ipython3",
   "version": "3.9.12"
  }
 },
 "nbformat": 4,
 "nbformat_minor": 5
}
